{
 "cells": [
  {
   "cell_type": "markdown",
   "metadata": {},
   "source": [
    "## A Friendly ☺️ Introduction to CNNs with Keras\n",
    "\n",
    "This is a basic introduction to anyone getting started with CNNs. This is practitioner's guide, so there's not a lot of theory.\n",
    "\n",
    "### Computer Vision \n",
    "\n",
    "In a nutshell, CNNs are special deep learning architectures that have revolutionized the field of computer vision. Computer Vision is a field that is concerned about deriving information from images using computers. Some examples of computer vision include- Identifying whether a given image contains an item, like identifying a pedestrian in traffic, identifying cracks in an industrial machine, identifying if an X-Ray is abnormal. Self-Driving cars rely on computer vision algorithms, which are often CNNs. Filters on Instagram, face recognition systems, all use deep learning under the hood.\n",
    "\n",
    "But some general types of computer vision problems are:\n",
    "\n",
    "- Image Classification (Is this image of a cat?)\n",
    "- Object Detection (Is there a cat in this image, and WHERE exactly is it?)\n",
    "- Segmentation (give me the exact outline of the cat in this image, if it exists)\n",
    "\n",
    "<img src=\"test_detail_2_webopt.jpg\"\n",
    "     alt=\"semiconductor testpin\"\n",
    "     style=\"float: left; margin-right: 10px;\" />\n",
    "     \n",
    "### Difference from Traditional Modeling\n",
    "\n",
    "If you're here, it probably means you're familiar with basic machine learning concepts- like training data, predictions, feature engineering, etc. on tabular data. However image data is different from tabular data due to having a different structure, hence traditional algorithms like random forest cannot be used for classifying images.\n",
    "\n",
    "### The CNN Breakthrough\n",
    "\n",
    "This is where CNNs made the breakthrough, and achieved tremendous results on image data. Before CNNs, image analytics required a lot of feature engineering and pre-processing (tons of hand-made filters). CNNs outperformed all the traditional methods without requiring such feature engineering. CNNs learnt the features and filters by itself. All you had to do was feed a lot of data to the model.\n",
    "\n",
    "### Deep Learning and Neural Networks\n",
    "\n",
    "CNN, that is, Convolutional Neural Networks are a subfield of neural networks, a family of algorithms. A neural network is a collection of nodes or neurons, where each neuron has a weight*. These weights are learnt during the training process such that the model is able to predict the output when input is given. When a lot of such neurons are stacked together, we get a neural network. A neural network with a lot of layers would be called deep neural network, a phenomenon which has driven majority of the AI success in the last decade.\n",
    "\n",
    "In CNNs, the neurons are arranged and stacked in a manner suitable for images.\n",
    "\n",
    "### Convolutional Neural Networks\n",
    "\n",
    "In CNN, we have filters (which are tiny 3x3 matrices) which \"convolve\" an image to get a transformed matrix. We won't worry about the theory and filters here. All you need to know, that filters transform the image to a new matrix. This matrix is made smaller by a method called Pooling. These two operations create one Convolution Layer, and several such Layers create a CNN. This order isn't mandatory, as we'll see later.\n",
    "\n",
    "This is a [nice animation](https://www.youtube.com/watch?v=YRhxdVk_sIs) that showcases the convolution operation.\n",
    "\n",
    "<div align=\"center\"><iframe align = \"middle\" width=\"790\" height=\"440\" src=\"https://www.youtube.com/embed/YRhxdVk_sIs\" title=\"YouTube video player\" frameborder=\"0\" allow=\"accelerometer; autoplay; clipboard-write; encrypted-media; gyroscope; picture-in-picture\" allowfullscreen></iframe></div>\n",
    "\n",
    "### Transfer Learning\n",
    "\n",
    "There's a neat trick in deep learning called transfer learning- which is covered at the end of the notebook in case you make it.\n",
    "\n",
    "That's quite a lot of theory, on to the problem at hand.\n",
    "\n",
    "## Problem At Hand\n",
    "\n",
    "The task at hand is an image classification task. You're given a ton of images that are either a cat image or a dog image. Now, if you give a new image, you should be able to predict if it's of a dog or a cat.\n",
    "\n",
    "We are going to train a CNN to do this. Using the keras library."
   ]
  },
  {
   "cell_type": "markdown",
   "metadata": {},
   "source": [
    "## Typical Workflow\n",
    "\n",
    "Typically when you work on a CNN task, this is how your notebook flow will look like:\n",
    "Whatever time you spend with CNNs, it will be in one of these sections.\n",
    "\n",
    "1. **Get the Images** \n",
    "\n",
    "(collecting images itself can be either a herculean task or sometimes ready-made data is available, time and effort varies with dataset)\n",
    "\n",
    "Difficulty Level: Varies\n",
    "Time Needed: Varies\n",
    "\n",
    "2. **Look at the Images and the Targets** \n",
    "\n",
    "(see how the images actually look like, what are the classes, how many of them.)\n",
    "\n",
    "3. **Create a Data Loader**\n",
    "\n",
    "(in most libraries you need a guy that reads the images and feeds to the model, and does the intermediate work- batching, augmentation, split, multiprocessing, etc. configuring this step will be a good chunk of your time\n",
    ")\n",
    "\n",
    "4. **Define Your Model**\n",
    "\n",
    "(how many CNN layers? How many filters, the optimizer, the loss function? this could be as easy as downloading/pasting an existing model in ten minutes, or the experiments could go on forever)\n",
    "\n",
    "5. **Train the Model**\n",
    "\n",
    "(now throw the dataloader function on the model and let it train. sit back and sip coffee.)\n",
    "\n",
    "6. **Get The Predictions**\n",
    "\n",
    "(here you actually use the model. for some task, or just to check if it's doing good. evaluating whether the model is giving good predictions can also be challenging in some use cases.)\n",
    "\n",
    "0. **Debugging**\n",
    "\n",
    "If you keep it simple, load pre-built modules, the model will work. But there could be many possible problems that might arise in the task. These will be covered at the end."
   ]
  },
  {
   "cell_type": "markdown",
   "metadata": {},
   "source": [
    "Importing the libraries"
   ]
  },
  {
   "cell_type": "code",
   "execution_count": 1,
   "metadata": {
    "_cell_guid": "b1076dfc-b9ad-4769-8c92-a6c4dae69d19",
    "_uuid": "8f2839f25d086af736a60e9eeb907d3b93b6e0e5",
    "execution": {
     "iopub.execute_input": "2023-01-07T09:23:03.953038Z",
     "iopub.status.busy": "2023-01-07T09:23:03.950279Z",
     "iopub.status.idle": "2023-01-07T09:23:09.962931Z",
     "shell.execute_reply": "2023-01-07T09:23:09.961984Z",
     "shell.execute_reply.started": "2023-01-07T09:23:03.952933Z"
    }
   },
   "outputs": [],
   "source": [
    "import numpy as np\n",
    "import pandas as pd \n",
    "from tensorflow.keras.preprocessing.image import ImageDataGenerator, load_img\n",
    "from tensorflow.keras.utils import plot_model\n",
    "from tensorflow.keras.utils import to_categorical\n",
    "from sklearn.model_selection import train_test_split\n",
    "import matplotlib.pyplot as plt\n",
    "import random\n",
    "import os\n",
    "from PIL import Image\n",
    "import glob"
   ]
  },
  {
   "cell_type": "code",
   "execution_count": 2,
   "metadata": {
    "execution": {
     "iopub.execute_input": "2023-01-07T09:23:38.505768Z",
     "iopub.status.busy": "2023-01-07T09:23:38.505119Z",
     "iopub.status.idle": "2023-01-07T09:23:39.489215Z",
     "shell.execute_reply": "2023-01-07T09:23:39.488045Z",
     "shell.execute_reply.started": "2023-01-07T09:23:38.505715Z"
    }
   },
   "outputs": [
    {
     "name": "stdout",
     "output_type": "stream",
     "text": [
      " Volume in drive C has no label.\n",
      " Volume Serial Number is 3813-6898\n",
      "\n",
      " Directory of C:\\Users\\mclcb\\tf\\input\\testpins\n",
      "\n",
      "2023-03-21  ?? 04:32    <DIR>          .\n",
      "2023-03-21  ?? 04:32    <DIR>          ..\n",
      "2023-03-01  ?? 11:40        17,500,490 230222 ? ???.zip\n",
      "2023-03-05  ?? 04:51    <DIR>          ng\n",
      "2023-03-05  ?? 04:46        77,077,655 ng.zip\n",
      "2023-03-05  ?? 05:23    <DIR>          ng1\n",
      "2023-03-05  ?? 06:03    <DIR>          ng2\n",
      "2023-03-06  ?? 03:33    <DIR>          ng3\n",
      "2023-03-05  ?? 04:50    <DIR>          ok\n",
      "2023-03-05  ?? 04:43        71,643,713 ok.zip\n",
      "2023-03-05  ?? 05:12    <DIR>          ok1\n",
      "2023-03-05  ?? 06:05    <DIR>          ok2\n",
      "2023-03-06  ?? 03:26    <DIR>          ok3\n",
      "2023-03-06  ?? 04:13             3,108 sampleSubmission.csv\n",
      "2023-03-05  ?? 10:48    <DIR>          test\n",
      "2023-03-05  ?? 09:28    <DIR>          test1\n",
      "2023-03-06  ?? 03:33    <DIR>          test3\n",
      "2023-03-21  ?? 04:32        11,277,347 test3.zip\n",
      "2023-03-05  ?? 06:06    <DIR>          train\n",
      "2023-03-05  ?? 05:34    <DIR>          train1\n",
      "2023-03-06  ?? 03:26    <DIR>          train3\n",
      "2023-03-05  ?? 06:00    <DIR>          ???_???? 200?\n",
      "2023-03-05  ?? 06:00    <DIR>          ???_??\n",
      "2023-03-05  ?? 06:00    <DIR>          ??_???? 200?\n",
      "2023-03-05  ?? 06:00    <DIR>          ??_??\n",
      "               5 File(s)    177,502,313 bytes\n",
      "              20 Dir(s)  259,888,123,904 bytes free\n"
     ]
    }
   ],
   "source": [
    "!dir .\\input\\testpins\n",
    "\n",
    "# the images are in a zip file in this folder"
   ]
  },
  {
   "cell_type": "code",
   "execution_count": 3,
   "metadata": {},
   "outputs": [
    {
     "name": "stdout",
     "output_type": "stream",
     "text": [
      " Volume in drive C has no label.\n",
      " Volume Serial Number is 3813-6898\n",
      "\n",
      " Directory of C:\\Users\\mclcb\\tf\\input\n",
      "\n",
      "2023-03-21  ?? 04:31    <DIR>          .\n",
      "2023-03-21  ?? 04:31    <DIR>          ..\n",
      "2023-03-03  ?? 04:38    <DIR>          dogs-vs-cats\n",
      "2023-03-21  ?? 04:32    <DIR>          testpins\n",
      "               0 File(s)              0 bytes\n",
      "               4 Dir(s)  259,888,168,960 bytes free\n"
     ]
    }
   ],
   "source": [
    "!dir \\Users\\mclcb\\tf\\input"
   ]
  },
  {
   "cell_type": "markdown",
   "metadata": {},
   "source": [
    "## 1. Get the Images\n",
    "\n",
    "Extract the images from the zip file. Now there are two folders: train/ and test1/"
   ]
  },
  {
   "cell_type": "code",
   "execution_count": 4,
   "metadata": {
    "execution": {
     "iopub.execute_input": "2023-01-07T09:23:39.49191Z",
     "iopub.status.busy": "2023-01-07T09:23:39.491181Z",
     "iopub.status.idle": "2023-01-07T09:23:58.199085Z",
     "shell.execute_reply": "2023-01-07T09:23:58.197874Z",
     "shell.execute_reply.started": "2023-01-07T09:23:39.491868Z"
    }
   },
   "outputs": [
    {
     "name": "stdout",
     "output_type": "stream",
     "text": [
      "/Users/mclcb/tf/input/testpins/train3/\n"
     ]
    }
   ],
   "source": [
    "img_dir = \"/Users/mclcb/tf/input/testpins/train3/\"\n",
    "print(img_dir)"
   ]
  },
  {
   "cell_type": "markdown",
   "metadata": {},
   "source": [
    "https://docs.python.org/ko/3/library/glob.html\n",
    "glob : Unix 스타일 경로명 패턴 확장"
   ]
  },
  {
   "cell_type": "code",
   "execution_count": 5,
   "metadata": {
    "execution": {
     "iopub.execute_input": "2023-01-07T09:23:58.201603Z",
     "iopub.status.busy": "2023-01-07T09:23:58.201176Z",
     "iopub.status.idle": "2023-01-07T09:23:58.278732Z",
     "shell.execute_reply": "2023-01-07T09:23:58.277684Z",
     "shell.execute_reply.started": "2023-01-07T09:23:58.201558Z"
    }
   },
   "outputs": [
    {
     "data": {
      "text/plain": [
       "['/Users/mclcb/tf/input/testpins/train3\\\\ng_.0.jpg',\n",
       " '/Users/mclcb/tf/input/testpins/train3\\\\ng_.1.jpg',\n",
       " '/Users/mclcb/tf/input/testpins/train3\\\\ng_.10.jpg',\n",
       " '/Users/mclcb/tf/input/testpins/train3\\\\ng_.100.jpg',\n",
       " '/Users/mclcb/tf/input/testpins/train3\\\\ng_.101.jpg']"
      ]
     },
     "execution_count": 5,
     "metadata": {},
     "output_type": "execute_result"
    }
   ],
   "source": [
    "# let's look at any five files in the train folder\n",
    "#glob.glob(\"C:\\Users\\mclcb\\tf\\input\\dogs-vs-cats\\train\\*.jpg\")[:5]\n",
    "glob.glob(\"/Users/mclcb/tf/input/testpins/train3/*.jpg\")[:5]"
   ]
  },
  {
   "cell_type": "markdown",
   "metadata": {},
   "source": [
    "You now notice that the label is encoded in the filename itself- cat or dog! We need to extract that to be able to train the model.\n",
    "\n",
    "We are collecting each filename, and the corresponding label in a pandas dataframe (needed later)"
   ]
  },
  {
   "cell_type": "code",
   "execution_count": 1,
   "metadata": {
    "execution": {
     "iopub.execute_input": "2023-01-07T09:23:58.281767Z",
     "iopub.status.busy": "2023-01-07T09:23:58.281316Z",
     "iopub.status.idle": "2023-01-07T09:23:58.380425Z",
     "shell.execute_reply": "2023-01-07T09:23:58.379495Z",
     "shell.execute_reply.started": "2023-01-07T09:23:58.281718Z"
    }
   },
   "outputs": [
    {
     "ename": "NameError",
     "evalue": "name 'glob' is not defined",
     "output_type": "error",
     "traceback": [
      "\u001b[1;31m---------------------------------------------------------------------------\u001b[0m",
      "\u001b[1;31mNameError\u001b[0m                                 Traceback (most recent call last)",
      "\u001b[1;32m~\\AppData\\Local\\Temp\\ipykernel_8000\\3736422521.py\u001b[0m in \u001b[0;36m<module>\u001b[1;34m\u001b[0m\n\u001b[1;32m----> 1\u001b[1;33m \u001b[0mtrain_files\u001b[0m \u001b[1;33m=\u001b[0m \u001b[0mglob\u001b[0m\u001b[1;33m.\u001b[0m\u001b[0mglob\u001b[0m\u001b[1;33m(\u001b[0m\u001b[1;34m\"/Users/mclcb/tf/input/testpins/train3/*.jpg\"\u001b[0m\u001b[1;33m)\u001b[0m\u001b[1;33m\u001b[0m\u001b[1;33m\u001b[0m\u001b[0m\n\u001b[0m\u001b[0;32m      2\u001b[0m \u001b[0mtrain_labels\u001b[0m \u001b[1;33m=\u001b[0m \u001b[1;33m[\u001b[0m\u001b[0mi\u001b[0m\u001b[1;33m.\u001b[0m\u001b[0mstrip\u001b[0m\u001b[1;33m(\u001b[0m\u001b[1;34m'/Users/mclcb/tf/input/testpins/train3/'\u001b[0m\u001b[1;33m)\u001b[0m\u001b[1;33m[\u001b[0m\u001b[1;36m0\u001b[0m\u001b[1;33m:\u001b[0m\u001b[1;36m3\u001b[0m\u001b[1;33m]\u001b[0m \u001b[1;32mfor\u001b[0m \u001b[0mi\u001b[0m \u001b[1;32min\u001b[0m \u001b[0mtrain_files\u001b[0m\u001b[1;33m]\u001b[0m\u001b[1;33m\u001b[0m\u001b[1;33m\u001b[0m\u001b[0m\n\u001b[0;32m      3\u001b[0m \u001b[0mtrain_df\u001b[0m \u001b[1;33m=\u001b[0m \u001b[0mpd\u001b[0m\u001b[1;33m.\u001b[0m\u001b[0mDataFrame\u001b[0m\u001b[1;33m(\u001b[0m\u001b[1;33m{\u001b[0m\u001b[1;34m'filename'\u001b[0m\u001b[1;33m:\u001b[0m \u001b[0mtrain_files\u001b[0m\u001b[1;33m,\u001b[0m \u001b[1;34m'class'\u001b[0m\u001b[1;33m:\u001b[0m \u001b[0mtrain_labels\u001b[0m\u001b[1;33m}\u001b[0m\u001b[1;33m)\u001b[0m\u001b[1;33m\u001b[0m\u001b[1;33m\u001b[0m\u001b[0m\n\u001b[0;32m      4\u001b[0m \u001b[0mtrain_df\u001b[0m\u001b[1;33m.\u001b[0m\u001b[0mhead\u001b[0m\u001b[1;33m(\u001b[0m\u001b[1;33m)\u001b[0m\u001b[1;33m\u001b[0m\u001b[1;33m\u001b[0m\u001b[0m\n",
      "\u001b[1;31mNameError\u001b[0m: name 'glob' is not defined"
     ]
    }
   ],
   "source": [
    "train_files = glob.glob(\"/Users/mclcb/tf/input/testpins/train3/*.jpg\")\n",
    "train_labels = [i.strip('/Users/mclcb/tf/input/testpins/train3/')[0:3] for i in train_files]\n",
    "train_df = pd.DataFrame({'filename': train_files, 'class': train_labels})\n",
    "train_df.head()"
   ]
  },
  {
   "cell_type": "code",
   "execution_count": 7,
   "metadata": {},
   "outputs": [
    {
     "data": {
      "text/plain": [
       "['/Users/mclcb/tf/input/testpins/train3\\\\ng_.0.jpg',\n",
       " '/Users/mclcb/tf/input/testpins/train3\\\\ng_.1.jpg',\n",
       " '/Users/mclcb/tf/input/testpins/train3\\\\ng_.10.jpg',\n",
       " '/Users/mclcb/tf/input/testpins/train3\\\\ng_.100.jpg',\n",
       " '/Users/mclcb/tf/input/testpins/train3\\\\ng_.101.jpg']"
      ]
     },
     "execution_count": 7,
     "metadata": {},
     "output_type": "execute_result"
    }
   ],
   "source": [
    "train_files[:5]"
   ]
  },
  {
   "cell_type": "code",
   "execution_count": 8,
   "metadata": {},
   "outputs": [
    {
     "data": {
      "text/plain": [
       "['\\\\ng', '\\\\ng', '\\\\ng', '\\\\ng', '\\\\ng']"
      ]
     },
     "execution_count": 8,
     "metadata": {},
     "output_type": "execute_result"
    }
   ],
   "source": [
    "train_labels[:5]"
   ]
  },
  {
   "cell_type": "markdown",
   "metadata": {
    "execution": {
     "iopub.execute_input": "2022-12-15T17:51:39.210383Z",
     "iopub.status.busy": "2022-12-15T17:51:39.209994Z",
     "iopub.status.idle": "2022-12-15T17:51:39.218492Z",
     "shell.execute_reply": "2022-12-15T17:51:39.217576Z",
     "shell.execute_reply.started": "2022-12-15T17:51:39.21035Z"
    }
   },
   "source": [
    "First step is done- we have the images, and we have the labels. Let's move to the second step."
   ]
  },
  {
   "cell_type": "markdown",
   "metadata": {
    "execution": {
     "iopub.execute_input": "2022-12-15T17:51:39.825266Z",
     "iopub.status.busy": "2022-12-15T17:51:39.824303Z",
     "iopub.status.idle": "2022-12-15T17:51:39.835381Z",
     "shell.execute_reply": "2022-12-15T17:51:39.834084Z",
     "shell.execute_reply.started": "2022-12-15T17:51:39.825228Z"
    }
   },
   "source": [
    "## 2. Look at Them!\n",
    "\n",
    "We now observe what the images look like.\n",
    "We'll look at four random images from the data."
   ]
  },
  {
   "cell_type": "code",
   "execution_count": 9,
   "metadata": {
    "execution": {
     "iopub.execute_input": "2023-01-07T09:23:58.383214Z",
     "iopub.status.busy": "2023-01-07T09:23:58.382452Z",
     "iopub.status.idle": "2023-01-07T09:23:59.552643Z",
     "shell.execute_reply": "2023-01-07T09:23:59.551804Z",
     "shell.execute_reply.started": "2023-01-07T09:23:58.383178Z"
    }
   },
   "outputs": [
    {
     "data": {
      "image/png": "[encoded data removed]",
      "text/plain": [
       "<Figure size 1000x1000 with 4 Axes>"
      ]
     },
     "metadata": {},
     "output_type": "display_data"
    }
   ],
   "source": [
    "fig, axs = plt.subplots(2, 2, figsize=(10,10))\n",
    "axs = axs.ravel()\n",
    "for i in range(0,4):\n",
    "    idx = random.choice(train_df.index)\n",
    "    axs[i].imshow(Image.open(train_df['filename'][idx]))\n",
    "    axs[i].set_title(train_df['class'][idx])"
   ]
  },
  {
   "cell_type": "markdown",
   "metadata": {},
   "source": [
    "This is a pretty clean dataset- that's good. The subjects of the image are in center, occupy a majority of the image, no blurriness or anything. (Ideally you'd look at more images than a dozen tho,:) )\n",
    "\n",
    "You might've noticed that the dimensions of the images are not constant, they vary a lot. This will be a problem for the CNN- it expects images of a fixed size! How do we take care of it? We don't, our data loader guy will do it for us.\n",
    "\n",
    "(Well, sometimes we might want to do it ourselves, if we think the resizing needs extra attention- but in this case, we'll let it be automated.)"
   ]
  },
  {
   "cell_type": "markdown",
   "metadata": {},
   "source": [
    "## 3. Release the Loader!\n",
    "\n",
    "Dataloaders are the unsung heroes of the CNN world- they take care of a lot of nasty work that would be a nightmare if we had to do it by hand. What they essentially do is simple- read the data from the disk, and feed to the model. But under the hood they take care of many things, like...\n",
    "\n",
    "1. Resizing, as we discussed. Ensuring that each image is of a fixed size.\n",
    "2. Batching. Feeding images one-by-one to the model is tedious, would take a lot of time. It's better to feed a large number of them at once (as much your computer will allow)\n",
    "3. Label Encoding. Computers don't understand string like 'cat' or 'dog', you have to convert them to numbers like 0 or 1. \n",
    "4. Data Augmentation. Create more images by slightly modifying an image (flipping it, rotating it teeny bit, adding some spots, etc.)\n",
    "5. Validation Split. Keras now has support for validation splitting.\n",
    "6. Sometimes the data is too large to fit into memory (10+ GB, say), then loaders can iterate through the dataset on disk chunk-by-chunk instead of loading everything at once.\n",
    "\n",
    "We are using keras's `ImageDataGenerator` to create our training data loader.\n",
    "\n",
    "Two steps:\n",
    "\n",
    "1. Define a `ImageDataGenerator` instance, and specify the augmentation strategies.\n",
    "2. Create a generator from this instance by specifying the image file paths and labels.\n",
    "Pass this generator to the model for training.\n",
    "\n",
    "In pytorch there's `torch.utils.data.Dataset` and`torch.utils.data.DataLoader`. Sometimes you may need to define a custom dataloader, but the default is good enough for most use cases."
   ]
  },
  {
   "cell_type": "code",
   "execution_count": 10,
   "metadata": {
    "execution": {
     "iopub.execute_input": "2023-01-07T09:23:59.554259Z",
     "iopub.status.busy": "2023-01-07T09:23:59.553688Z",
     "iopub.status.idle": "2023-01-07T09:23:59.561516Z",
     "shell.execute_reply": "2023-01-07T09:23:59.560366Z",
     "shell.execute_reply.started": "2023-01-07T09:23:59.554221Z"
    }
   },
   "outputs": [],
   "source": [
    "train_datagen = ImageDataGenerator(\n",
    "    rotation_range=12,\n",
    "    rescale=1./255,\n",
    "    horizontal_flip=True,\n",
    "    shear_range=0.05,      \n",
    "    zoom_range=0.1,       \n",
    "    validation_split=0.2) \n",
    "\n",
    "# create a image data generator object. \n",
    "# all these are data augmentation parameters.\n",
    "\n",
    "# now let's specify the image size to which each image will be resized to\n",
    "img_height, img_width = 480, 640\n",
    "batch_size = 1"
   ]
  },
  {
   "cell_type": "markdown",
   "metadata": {},
   "source": [
    "There are two ways to create data generators/loaders from above instance. I recommend going through the [ImageDataGenerator API page](https://www.tensorflow.org/api_docs/python/tf/keras/preprocessing/image/ImageDataGenerator), but the two methods are:\n",
    "\n",
    "1. Flow from Dataframe (here, you can contain the filenames and labels in a pandas dataframe, and pass the dataframe), we are using this, remember the dataframe we created earlier?\n",
    "2. Flow from Directory (here, you can pass the path of a directory. This directory should contain subfolders corresponding to each class. You will have to rearrange your directory so that it looks like this.\n",
    "\n",
    "```\n",
    "Train/\n",
    "---| ng/\n",
    "   ---| ng1.jpg\n",
    "   ---| ng1.jpg\n",
    "---| ok/\n",
    "   ---| ok1.jpg\n",
    "   ---| ok2.jpg\n",
    "Val/\n",
    "---| ng/\n",
    "   ---| ng5.jpg\n",
    "   ---| ng6.jpg\n",
    "---| ok/\n",
    "   ---| ok7.jpg\n",
    "   ---| ok8.jpg\n",
    "```\n",
    "Since we are using method1, we will not be rearranging the folders."
   ]
  },
  {
   "cell_type": "code",
   "execution_count": 11,
   "metadata": {
    "execution": {
     "iopub.execute_input": "2023-01-07T09:23:59.563853Z",
     "iopub.status.busy": "2023-01-07T09:23:59.563157Z",
     "iopub.status.idle": "2023-01-07T09:23:59.96111Z",
     "shell.execute_reply": "2023-01-07T09:23:59.959989Z",
     "shell.execute_reply.started": "2023-01-07T09:23:59.56382Z"
    }
   },
   "outputs": [
    {
     "name": "stdout",
     "output_type": "stream",
     "text": [
      "Found 377 validated image filenames belonging to 2 classes.\n",
      "Found 94 validated image filenames belonging to 2 classes.\n",
      "Class Indices: {'\\\\ng': 0, '\\\\ok': 1}\n"
     ]
    }
   ],
   "source": [
    "train_generator = train_datagen.flow_from_dataframe(\n",
    "    train_df,\n",
    "    target_size=(img_height, img_width),\n",
    "    batch_size=batch_size,\n",
    "    class_mode='categorical',\n",
    "    subset='training') # set as training data\n",
    "\n",
    "# remember we put 0.2 validation split while defining ImageDataGenerator?\n",
    "validation_generator = train_datagen.flow_from_dataframe(\n",
    "    train_df, # same directory as training data\n",
    "    target_size=(img_height, img_width),\n",
    "    batch_size=batch_size,\n",
    "    class_mode='categorical',\n",
    "    subset='validation') # set as validation data\n",
    "\n",
    "print(\"Class Indices:\", train_generator.class_indices)"
   ]
  },
  {
   "cell_type": "markdown",
   "metadata": {},
   "source": [
    "## 4. Define A Model\n",
    "\n",
    "Now we come to the meaty part- defining the CNN network, the engine of our application. As we discussed earlier, we are going to define a series of Convolution Layers, and each convolution layer consists of a convolution operation followed by a max pool layer.\n",
    "\n",
    "This order is not mandatory- you can have two Convolution operations followed by one max pool, or three, or an average pool- that's the neat part of neural networks, they're so adaptable and malleable, and the best configurations are often found out by trial and error. In this case, we are going with the wisdom of our elders, and go by this order.\n",
    "\n",
    "### Head of A CNN\n",
    "\n",
    "As we apply more Conv Layers, you will get a transformed matrix of somesize x somesize. But what good is a matrix to us? We need a simple answer- 0 or 1! In order to get this answer, we \"flatten\" the final matrix to a single vector of size somesize-times-2 x 1. Then we pass it through more neural network neurons to get a single neuron at the end. This neuron's output is constrained between 0 and 1. This is our final probability! If it's greater than 0.5, the prediction is 1, if not, it's 0.\n",
    "\n",
    "If you have more than 2 classes, like predicting a digit. In this case, there would be ten neurons at the end. Each of their output would be the probability of that class.\n",
    "\n",
    "### Model Hyperparameters\n",
    "\n",
    "Apart from number of Conv layers, there are other design choices while designing a CNN- they include selecting the optimizer, the learning rate, the loss function, the number of filters. For an introductory notebook, discussion on those is not necessary.\n",
    "\n",
    "What's important to note: passing the input shape to the first layer. Ensuring that the last layer corresponds to the number of classes. \n",
    "\n",
    "Try tinkering with this configuration to see how the results change. Try using only one Conv Layer, reducing number of filters, increasing number of filters, etc."
   ]
  },
  {
   "cell_type": "code",
   "execution_count": 12,
   "metadata": {
    "execution": {
     "iopub.execute_input": "2023-01-07T09:23:59.962988Z",
     "iopub.status.busy": "2023-01-07T09:23:59.962603Z",
     "iopub.status.idle": "2023-01-07T09:24:03.643146Z",
     "shell.execute_reply": "2023-01-07T09:24:03.642101Z",
     "shell.execute_reply.started": "2023-01-07T09:23:59.962953Z"
    }
   },
   "outputs": [],
   "source": [
    "from keras.models import Sequential\n",
    "from keras.layers import Conv2D, MaxPooling2D, Dropout, Flatten, Dense, Activation, BatchNormalization\n",
    "\n",
    "model = Sequential()\n",
    "\n",
    "model.add(Conv2D(32, (3, 3), activation='relu', \n",
    "                 input_shape=(img_width, img_height, 3)))\n",
    "# 32 here means this layer will contain 32 filters of size 3x3 being learnt\n",
    "model.add(BatchNormalization())\n",
    "# batchnorm is a useful layer that helps in convergence\n",
    "model.add(MaxPooling2D(pool_size=(2, 2)))\n",
    "# maxpooling will reduce the size of the image\n",
    "model.add(Dropout(0.25))\n",
    "# dropout is used for regularization, ensuring that model doesn't overfit\n",
    "\n",
    "model.add(Conv2D(64, (3, 3), activation='relu'))\n",
    "model.add(BatchNormalization())\n",
    "model.add(MaxPooling2D(pool_size=(2, 2)))\n",
    "model.add(Dropout(0.25))\n",
    "\n",
    "model.add(Conv2D(128, (3, 3), activation='relu'))\n",
    "model.add(BatchNormalization())\n",
    "model.add(MaxPooling2D(pool_size=(2, 2)))\n",
    "model.add(Dropout(0.25))\n",
    "\n",
    "# convolutional block is complete. now on to defining the \"head\"\n",
    "\n",
    "# first flatten the matrix to get a single array\n",
    "model.add(Flatten())\n",
    "# adding a dense hidden layer of neurons\n",
    "model.add(Dense(512, activation='relu'))\n",
    "model.add(BatchNormalization())\n",
    "model.add(Dropout(0.5))\n",
    "# finally the output layer with neurons=number of classes and softmax activation\n",
    "model.add(Dense(2, activation='softmax')) # 2 because we have cat and dog classes"
   ]
  },
  {
   "cell_type": "markdown",
   "metadata": {},
   "source": [
    "Let's visualize how our network looks like, and what the shapes of input and output at each layer.\n",
    "\n",
    "The shapes of input and output can be useful for debugging. If there's a mismatch between output of one layer and input of next, model will throw up error."
   ]
  },
  {
   "cell_type": "code",
   "execution_count": 13,
   "metadata": {
    "execution": {
     "iopub.execute_input": "2022-12-18T15:12:05.062156Z",
     "iopub.status.busy": "2022-12-18T15:12:05.061699Z",
     "iopub.status.idle": "2022-12-18T15:12:05.977001Z",
     "shell.execute_reply": "2022-12-18T15:12:05.97585Z",
     "shell.execute_reply.started": "2022-12-18T15:12:05.062119Z"
    },
    "scrolled": true
   },
   "outputs": [
    {
     "data": {
      "image/png": "[encoded data removed]",
      "text/plain": [
       "<IPython.core.display.Image object>"
      ]
     },
     "execution_count": 13,
     "metadata": {},
     "output_type": "execute_result"
    }
   ],
   "source": [
    "plot_model(model, show_shapes=True, show_layer_names=False, dpi=60)"
   ]
  },
  {
   "cell_type": "code",
   "execution_count": 14,
   "metadata": {
    "execution": {
     "iopub.execute_input": "2022-12-18T15:12:23.625477Z",
     "iopub.status.busy": "2022-12-18T15:12:23.625078Z",
     "iopub.status.idle": "2022-12-18T15:12:23.643979Z",
     "shell.execute_reply": "2022-12-18T15:12:23.642599Z",
     "shell.execute_reply.started": "2022-12-18T15:12:23.625433Z"
    }
   },
   "outputs": [],
   "source": [
    "# compile the model while defining a loss, optimizer, and metrics to track, \n",
    "# and add callbacks if necessary\n",
    "model.compile(loss='categorical_crossentropy', \n",
    "              optimizer='adam', \n",
    "              metrics=['accuracy'])"
   ]
  },
  {
   "cell_type": "code",
   "execution_count": null,
   "metadata": {
    "execution": {
     "iopub.execute_input": "2022-12-18T15:13:35.506356Z",
     "iopub.status.busy": "2022-12-18T15:13:35.505438Z",
     "iopub.status.idle": "2022-12-18T15:19:06.24077Z",
     "shell.execute_reply": "2022-12-18T15:19:06.23975Z",
     "shell.execute_reply.started": "2022-12-18T15:13:35.506307Z"
    },
    "scrolled": true
   },
   "outputs": [
    {
     "name": "stdout",
     "output_type": "stream",
     "text": [
      "Epoch 1/10\n",
      "377/377 [==============================] - 242s 639ms/step - loss: 0.6561 - accuracy: 0.6578 - val_loss: 1.9150e-07 - val_accuracy: 1.0000\n",
      "Epoch 2/10\n",
      "  3/377 [..............................] - ETA: 3:53 - loss: 0.6330 - accuracy: 0.6667"
     ]
    }
   ],
   "source": [
    "epochs=10\n",
    "history = model.fit(\n",
    "    train_generator, \n",
    "    epochs=epochs,\n",
    "    validation_data=validation_generator,\n",
    ")"
   ]
  },
  {
   "cell_type": "code",
   "execution_count": null,
   "metadata": {
    "execution": {
     "iopub.execute_input": "2022-12-18T15:19:06.243484Z",
     "iopub.status.busy": "2022-12-18T15:19:06.242904Z",
     "iopub.status.idle": "2022-12-18T15:19:06.507317Z",
     "shell.execute_reply": "2022-12-18T15:19:06.506423Z",
     "shell.execute_reply.started": "2022-12-18T15:19:06.243434Z"
    }
   },
   "outputs": [],
   "source": [
    "def plot_loss(history):\n",
    "    fig, (ax1, ax2) = plt.subplots(2, 1, figsize=(6, 6))\n",
    "    ax1.plot(history.history['loss'], color='b', label=\"Training loss\")\n",
    "    ax1.plot(history.history['val_loss'], color='r', label=\"validation loss\")\n",
    "    ax1.set_xticks(np.arange(1, epochs, 1))\n",
    "\n",
    "    ax2.plot(history.history['accuracy'], color='b', label=\"Training accuracy\")\n",
    "    ax2.plot(history.history['val_accuracy'], color='r',label=\"Validation accuracy\")\n",
    "    ax2.set_xticks(np.arange(1, epochs, 1))\n",
    "\n",
    "    legend = plt.legend(loc='best', shadow=True)\n",
    "    plt.tight_layout()\n",
    "    plt.show()\n",
    "plot_loss(history)"
   ]
  },
  {
   "cell_type": "markdown",
   "metadata": {},
   "source": [
    "## 6. Get the Predictions\n",
    "\n",
    "Now that the model is trained, let's check if the model is giving us good predictions, by trying it out on the test data."
   ]
  },
  {
   "cell_type": "code",
   "execution_count": null,
   "metadata": {
    "execution": {
     "iopub.execute_input": "2023-01-07T11:35:14.59141Z",
     "iopub.status.busy": "2023-01-07T11:35:14.59096Z",
     "iopub.status.idle": "2023-01-07T11:35:14.779079Z",
     "shell.execute_reply": "2023-01-07T11:35:14.777367Z",
     "shell.execute_reply.started": "2023-01-07T11:35:14.591366Z"
    }
   },
   "outputs": [],
   "source": [
    "test_files = glob.glob('/Users/mclcb/tf/input/testpins/test3/*.jpg')\n",
    "test_df = pd.DataFrame({'filename': test_files})\n",
    "test_gen = ImageDataGenerator(rescale=1./255)\n",
    "test_generator = test_gen.flow_from_dataframe(\n",
    "    test_df, \n",
    "    x_col='filename',\n",
    "    y_col=None,\n",
    "    class_mode=None,\n",
    "    target_size=(img_height, img_width),\n",
    "    batch_size=batch_size,\n",
    "    shuffle=False)"
   ]
  },
  {
   "cell_type": "code",
   "execution_count": null,
   "metadata": {},
   "outputs": [],
   "source": [
    "print(test_generator)"
   ]
  },
  {
   "cell_type": "code",
   "execution_count": null,
   "metadata": {},
   "outputs": [],
   "source": [
    "def visualize_predictions(test_generator, model): # OK test3\n",
    "    #plt.figure(figsize=(12, 12))\n",
    "    plt.figure()\n",
    "    for i in range(0, 4):\n",
    "        plt.subplot(2, 2, i+1)\n",
    "        for X_batch in test_generator:\n",
    "            prediction = model.predict(X_batch)[0]\n",
    "            image = X_batch[0]\n",
    "            plt.imshow(image)\n",
    "            plt.title('ng' if np.argmax(prediction)==0 else \"ok\")\n",
    "            break\n",
    "    plt.tight_layout()\n",
    "    plt.show()\n",
    "visualize_predictions(test_generator, model)"
   ]
  },
  {
   "cell_type": "code",
   "execution_count": null,
   "metadata": {
    "execution": {
     "iopub.execute_input": "2023-01-07T11:35:02.279793Z",
     "iopub.status.busy": "2023-01-07T11:35:02.278947Z",
     "iopub.status.idle": "2023-01-07T11:35:02.305831Z",
     "shell.execute_reply": "2023-01-07T11:35:02.304438Z",
     "shell.execute_reply.started": "2023-01-07T11:35:02.279751Z"
    }
   },
   "outputs": [],
   "source": [
    "def visualize_predictions(test_generator, model): # NG test3\n",
    "    plt.figure()\n",
    "    for i in range(0, 4):\n",
    "        plt.subplot(2, 2, i+1)\n",
    "        for X_batch in test_generator:\n",
    "            prediction = model.predict(X_batch)[0]\n",
    "            image = X_batch[0]\n",
    "            plt.imshow(image)\n",
    "            plt.title('ng' if np.argmax(prediction)==0 else \"ok\")\n",
    "            break\n",
    "    plt.tight_layout()\n",
    "    plt.show()\n",
    "visualize_predictions(test_generator, model)"
   ]
  },
  {
   "cell_type": "code",
   "execution_count": null,
   "metadata": {},
   "outputs": [],
   "source": [
    "def visualize_predictions(test_generator, model): # NG test3\n",
    "    #plt.figure(figsize=(12, 12))\n",
    "    plt.figure()\n",
    "    for i in range(0, 458):\n",
    "        #plt.subplot(4, 2, i+1)\n",
    "        for X_batch in test_generator:\n",
    "            prediction = model.predict(X_batch)[0]\n",
    "            image = X_batch[0]\n",
    "            print(i+1)\n",
    "            plt.imshow(image)\n",
    "            plt.title('ng' if np.argmax(prediction)==0 else \"ok\")\n",
    "            plt.tight_layout()\n",
    "            plt.show()\n",
    "            break\n",
    "    #plt.tight_layout()\n",
    "    #plt.show()\n",
    "visualize_predictions(test_generator, model)"
   ]
  },
  {
   "cell_type": "markdown",
   "metadata": {},
   "source": [
    "## Transfer Learning\n",
    "\n",
    "If you made it here, we'll talk about deep learning's most important tricks - transfer learning!\n",
    "\n",
    "Neural networks are notoriously data hungry- they can eat millions of images and digest them to be able to generalize upon their features. In this case, what if you don't have millions of images?\n",
    "\n",
    "In this case, you use a model that has been trained on millions of images. And take it as your starting point. And train your model from them. Those massive datasets don't necessarily have to be related to your image classes.\n",
    "\n",
    "There are many publicly available models like resnet, xception, convnext (particular architectures of CNNs) trained on ImageNet dataset (a very large image dataset with 100+ different classes). You can simply download them, and use it for your task (classifying dogs), and it will work much better than defining a model from new.\n",
    "\n",
    "We'll implement a model using transfer learning below."
   ]
  },
  {
   "cell_type": "code",
   "execution_count": null,
   "metadata": {
    "execution": {
     "iopub.execute_input": "2023-01-07T11:11:35.702213Z",
     "iopub.status.busy": "2023-01-07T11:11:35.70185Z",
     "iopub.status.idle": "2023-01-07T11:11:36.782264Z",
     "shell.execute_reply": "2023-01-07T11:11:36.781292Z",
     "shell.execute_reply.started": "2023-01-07T11:11:35.702184Z"
    }
   },
   "outputs": [],
   "source": [
    "from tensorflow.keras.applications import ResNet50, Xception\n",
    "from tensorflow.keras import Input\n",
    "from tensorflow.keras.models import Model\n",
    "\n",
    "# ResNet50 is our \"backbone\" of sorts, a CNN architecture \n",
    "# pretrained on the imagenet dataset\n",
    "# we are only taking the CNN portion of it (include_top = False)\n",
    "# and dropping the dense layer, we'll initialize a dense network of our own\n",
    "\n",
    "basemodel = Xception(include_top = False, \n",
    "                   weights = 'imagenet',\n",
    "                  input_shape=(img_height, img_width, 3))\n",
    "\n",
    "basemodel.trainable = False\n",
    "\n",
    "# use the output of the baseModel to create a \"head\"\n",
    "headModel = basemodel.output\n",
    "headModel = MaxPooling2D(pool_size=(5, 5))(headModel)\n",
    "headModel = Flatten(name=\"flatten\")(headModel)\n",
    "headModel = Dense(128, activation=\"relu\")(headModel)\n",
    "headModel = Dropout(0.8)(headModel)\n",
    "# headModel = Dense(32, activation=\"relu\")(headModel)\n",
    "# headModel = Dropout(0.5)(headModel)\n",
    "headModel = Dense(2, activation=\"softmax\")(headModel)\n",
    "# at the end, we'll have two neurons, for two of the classes\n",
    "\n",
    "# we're \"disabling\" the backbone, and only training the head for this task\n",
    "# we're assuming that the backbone is already sufficiently trained to generate\n",
    "# features from images like ours.\n",
    "# we can also \"disable\" all CNN layers except last 4\n",
    "\n",
    "# create a model object\n",
    "model = Model(inputs=basemodel.input, outputs=headModel)"
   ]
  },
  {
   "cell_type": "code",
   "execution_count": null,
   "metadata": {
    "execution": {
     "iopub.execute_input": "2023-01-07T10:26:03.244728Z",
     "iopub.status.busy": "2023-01-07T10:26:03.243852Z",
     "iopub.status.idle": "2023-01-07T10:26:03.249559Z",
     "shell.execute_reply": "2023-01-07T10:26:03.248217Z",
     "shell.execute_reply.started": "2023-01-07T10:26:03.244681Z"
    }
   },
   "outputs": [],
   "source": [
    "plot_model(model, show_shapes=True, show_layer_names=False, dpi=60)"
   ]
  },
  {
   "cell_type": "markdown",
   "metadata": {},
   "source": [
    "## Experiment Tracking\n",
    "\n",
    "In earlier case, we plotted our losses and metrics after the training was done, manually using matplotlib. But there are tools available using which we can observe real-time how our training is progressing. They also log system metrics like GPU usage, and can keep track of multiple experiments, hyperparameters etc. One such tool is wandb.ai, using which you can track your model even on phone as it's running in background.\n",
    "\n",
    "Using it is very simple, signup on [wandb.ai](wandb.ai), and add only few lines of code. Get the API token, and go through [this discussion](https://www.kaggle.com/general/209530) on how to add it as a kaggle secret.\n"
   ]
  },
  {
   "cell_type": "code",
   "execution_count": null,
   "metadata": {
    "execution": {
     "iopub.execute_input": "2023-01-07T09:17:46.833993Z",
     "iopub.status.busy": "2023-01-07T09:17:46.833626Z",
     "iopub.status.idle": "2023-01-07T09:17:49.066709Z",
     "shell.execute_reply": "2023-01-07T09:17:49.065549Z",
     "shell.execute_reply.started": "2023-01-07T09:17:46.833955Z"
    }
   },
   "outputs": [],
   "source": [
    "use_wandb = False # set to false if you don't want to use wandb for tracking\n",
    "if use_wandb:\n",
    "    from kaggle_secrets import UserSecretsClient\n",
    "    import wandb\n",
    "    from wandb.keras import WandbCallback\n",
    "    user_secrets = UserSecretsClient()\n",
    "    wandb_api = user_secrets.get_secret(\"wandb_api\")\n",
    "    wandb.login(key=wandb_api)"
   ]
  },
  {
   "cell_type": "code",
   "execution_count": null,
   "metadata": {
    "execution": {
     "iopub.execute_input": "2023-01-07T09:17:49.068801Z",
     "iopub.status.busy": "2023-01-07T09:17:49.068495Z",
     "iopub.status.idle": "2023-01-07T09:17:56.265393Z",
     "shell.execute_reply": "2023-01-07T09:17:56.264392Z",
     "shell.execute_reply.started": "2023-01-07T09:17:49.068772Z"
    }
   },
   "outputs": [],
   "source": [
    "if use_wandb:\n",
    "    wandb.init(project=\"keras_cats_and_dogs\", config={\"batch_size\": batch_size})"
   ]
  },
  {
   "cell_type": "code",
   "execution_count": null,
   "metadata": {
    "execution": {
     "iopub.execute_input": "2023-01-07T11:11:38.583251Z",
     "iopub.status.busy": "2023-01-07T11:11:38.580693Z",
     "iopub.status.idle": "2023-01-07T11:11:38.595903Z",
     "shell.execute_reply": "2023-01-07T11:11:38.594784Z",
     "shell.execute_reply.started": "2023-01-07T11:11:38.583213Z"
    }
   },
   "outputs": [],
   "source": [
    "from tensorflow.keras.optimizers import Adam\n",
    "from tensorflow.keras.callbacks import EarlyStopping\n",
    "opt = Adam(learning_rate=0.002)\n",
    "model.compile(loss='categorical_crossentropy', \n",
    "              optimizer=opt, \n",
    "              metrics=['accuracy'])"
   ]
  },
  {
   "cell_type": "code",
   "execution_count": null,
   "metadata": {
    "execution": {
     "iopub.execute_input": "2023-01-07T11:11:39.0109Z",
     "iopub.status.busy": "2023-01-07T11:11:39.010248Z",
     "iopub.status.idle": "2023-01-07T11:24:40.746162Z",
     "shell.execute_reply": "2023-01-07T11:24:40.743593Z",
     "shell.execute_reply.started": "2023-01-07T11:11:39.010861Z"
    },
    "scrolled": true
   },
   "outputs": [],
   "source": [
    "epochs=5\n",
    "callbacks=[EarlyStopping(monitor='loss', patience=2), ]\n",
    "if use_wandb: callbacks.append(WandbCallback())\n",
    "\n",
    "#history = model.fit_generator(\n",
    "history = model.fit(\n",
    "    train_generator,\n",
    "    epochs=epochs,\n",
    "    validation_data=validation_generator,\n",
    "    callbacks=callbacks,\n",
    ")"
   ]
  },
  {
   "cell_type": "code",
   "execution_count": null,
   "metadata": {},
   "outputs": [],
   "source": [
    "epochs=15\n",
    "callbacks=[EarlyStopping(monitor='loss', patience=2), ]\n",
    "if use_wandb: callbacks.append(WandbCallback())\n",
    "\n",
    "#history = model.fit_generator(\n",
    "history = model.fit(\n",
    "    train_generator,\n",
    "    epochs=epochs,\n",
    "    validation_data=validation_generator,\n",
    "    callbacks=callbacks,\n",
    ")"
   ]
  },
  {
   "cell_type": "markdown",
   "metadata": {},
   "source": [
    "## Massive Improvement Using Transfer Learning\n",
    "\n",
    "When we defined a custom model earlier, the best validation accuracy we got after 10 epochs was **85%**.\n",
    "\n",
    "Here, by using a pre-trained model, our validation accuracy after 1 epoch is as high as **98%**!\n",
    "\n",
    "As we can see, using a pre-trained model can really boost our performance with minimal training efforts. "
   ]
  },
  {
   "cell_type": "code",
   "execution_count": null,
   "metadata": {
    "execution": {
     "iopub.status.busy": "2023-01-07T09:20:50.734641Z",
     "iopub.status.idle": "2023-01-07T09:20:50.736773Z",
     "shell.execute_reply": "2023-01-07T09:20:50.736566Z",
     "shell.execute_reply.started": "2023-01-07T09:20:50.736542Z"
    }
   },
   "outputs": [],
   "source": [
    "plot_loss(history)"
   ]
  },
  {
   "cell_type": "code",
   "execution_count": null,
   "metadata": {
    "execution": {
     "iopub.execute_input": "2023-01-07T11:35:18.101788Z",
     "iopub.status.busy": "2023-01-07T11:35:18.100638Z",
     "iopub.status.idle": "2023-01-07T11:35:28.491808Z",
     "shell.execute_reply": "2023-01-07T11:35:28.48771Z",
     "shell.execute_reply.started": "2023-01-07T11:35:18.101718Z"
    }
   },
   "outputs": [],
   "source": [
    "visualize_predictions(test_generator, model)"
   ]
  },
  {
   "cell_type": "code",
   "execution_count": null,
   "metadata": {},
   "outputs": [],
   "source": []
  }
 ],
 "metadata": {
  "kernelspec": {
   "display_name": "Python 3 (ipykernel)",
   "language": "python",
   "name": "python3"
  },
  "language_info": {
   "codemirror_mode": {
    "name": "ipython",
    "version": 3
   },
   "file_extension": ".py",
   "mimetype": "text/x-python",
   "name": "python",
   "nbconvert_exporter": "python",
   "pygments_lexer": "ipython3",
   "version": "3.10.9"
  }
 },
 "nbformat": 4,
 "nbformat_minor": 4
}
